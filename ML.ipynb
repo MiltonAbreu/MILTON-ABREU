{
 "cells": [
  {
   "cell_type": "code",
   "execution_count": null,
   "metadata": {},
   "outputs": [],
   "source": [
    "# Importing Needed packages\n",
    "import matplotlib.pyplot as plt\n",
    "import pandas as pd\n",
    "import pylab as pl\n",
    "import numpy as np\n",
    "%matplotlib inline"
   ]
  },
  {
   "cell_type": "code",
   "execution_count": null,
   "metadata": {},
   "outputs": [],
   "source": [
    "#Downloading Data\n",
    "from urllib.request import urlopen\n",
    "FuelConsumption ='https://s3-api.us-geo.objectstorage.softlayer.net/cf-courses-data/CognitiveClass/ML0101ENv3/labs/FuelConsumptionCo2.csv'\n"
   ]
  },
  {
   "cell_type": "code",
   "execution_count": null,
   "metadata": {},
   "outputs": [],
   "source": [
    "#Reading the data\n",
    "dataset = pd.read_csv(FuelConsumption)\n",
    "# taking a look at the dataset\n",
    "dataset.head()"
   ]
  },
  {
   "cell_type": "code",
   "execution_count": null,
   "metadata": {},
   "outputs": [],
   "source": [
    "#Data Exploration - A descriptive exploration of the data.\n",
    "# summarize the data\n",
    "dataset.describe()"
   ]
  },
  {
   "cell_type": "code",
   "execution_count": null,
   "metadata": {},
   "outputs": [],
   "source": [
    "# Lets choose or select some features to play with, just to understand what's going on here\n",
    "choosen_features = dataset[['ENGINESIZE','CYLINDERS','FUELCONSUMPTION_COMB','CO2EMISSIONS']]\n",
    "\n",
    "# let's just look at 4 columns each with 8 rows for now :)#\n",
    "choosen_features.head(8)\n"
   ]
  },
  {
   "cell_type": "code",
   "execution_count": null,
   "metadata": {},
   "outputs": [],
   "source": [
    "#Let's now visualize each feature using histograms\n",
    "import seaborn as sns # just to put the histograms nice looking\n",
    "sns.set(style=\"ticks\")# the same here\n",
    "\n",
    "veja = choosen_features[['CYLINDERS','ENGINESIZE','CO2EMISSIONS','FUELCONSUMPTION_COMB']]\n",
    "veja.hist()\n",
    "plt.show()"
   ]
  },
  {
   "cell_type": "code",
   "execution_count": null,
   "metadata": {},
   "outputs": [],
   "source": [
    "#Now, lets plot each of these features vs the Emission, to see how linear is their relationship\n",
    "# FUELCONSUMPTION_COMB VS CO2EMISSIONS\n",
    "\n",
    "plt.scatter(choosen_features.FUELCONSUMPTION_COMB, choosen_features.CO2EMISSIONS,  color='blue')\n",
    "plt.xlabel(\"FUELCONSUMPTION_COMB\")\n",
    "plt.ylabel(\"Emission\")\n",
    "plt.show()"
   ]
  },
  {
   "cell_type": "code",
   "execution_count": null,
   "metadata": {},
   "outputs": [],
   "source": [
    "# ENGINESIZE VS CO2EMISSIONS\n",
    "plt.scatter(choosen_features.ENGINESIZE, choosen_features.CO2EMISSIONS,  color='blue')\n",
    "plt.xlabel(\"Engine size\")\n",
    "plt.ylabel(\"Emission\")\n",
    "plt.show()"
   ]
  },
  {
   "cell_type": "code",
   "execution_count": null,
   "metadata": {},
   "outputs": [],
   "source": [
    "# CYLINDERS VS CO2EMISSIONS\n",
    "plt.scatter(choosen_features.CYLINDERS, choosen_features.CO2EMISSIONS,  color='blue')\n",
    "plt.xlabel(\"CYLINDERS\")\n",
    "plt.ylabel(\"Emission\")\n",
    "plt.show()"
   ]
  },
  {
   "cell_type": "code",
   "execution_count": null,
   "metadata": {},
   "outputs": [],
   "source": [
    "# Creating train and test dataset - 80% of the entire data for training, and the 20% for testing.\n",
    "# We create a mask to select random rows using np.random.rand() function:\n",
    "\n",
    "mask = np.random.rand(len(dataset)) < 0.8 # taking 80 percent of our data randomly and store it in msk\n",
    "train = choosen_features[mask]# choosen_features is the choosen data ( with 4 columns and 9 rows)\n",
    "test = choosen_features[~mask]# the data not used or the remain 20 percent is the test set"
   ]
  },
  {
   "cell_type": "code",
   "execution_count": null,
   "metadata": {},
   "outputs": [],
   "source": [
    "#Train data distribution\n",
    "# Ploting only one feature\n",
    "plt.scatter(train.ENGINESIZE, train.CO2EMISSIONS,  color='blue')\n",
    "plt.xlabel(\"Engine size\")\n",
    "plt.ylabel(\"Emission\")\n",
    "plt.show()"
   ]
  },
  {
   "cell_type": "code",
   "execution_count": null,
   "metadata": {},
   "outputs": [],
   "source": [
    "# Modeling - Using sklearn package to model our data.\n",
    "from sklearn import linear_model\n",
    "regr = linear_model.LinearRegression()\n",
    "train_x = np.asanyarray(train[['ENGINESIZE']])\n",
    "train_y = np.asanyarray(train[['CO2EMISSIONS']])\n",
    "regr.fit (train_x, train_y)\n",
    "\n",
    "# The best coefficients for x and the y-intercept found by the model\n",
    "Coefficients = regr.coef_\n",
    "Intercept = regr.intercept_\n",
    "\n",
    "# The coefficients and y-Intercept found\n",
    "print ('Coefficients: ', Coefficients )\n",
    "print ('Intercept: ', Intercept)"
   ]
  },
  {
   "cell_type": "code",
   "execution_count": null,
   "metadata": {},
   "outputs": [],
   "source": [
    "# Preicted CO2_Emission - Trainnig set\n",
    "predicted_CO2 = Intercept[0] + Coefficients[0][0]*train_x\n",
    "size_train_x = len(train_x) # just to remember how many rows we have in this trainning set :)#\n",
    "size_train_x # It's 864\n",
    "#predicted_CO2 # the same here"
   ]
  },
  {
   "cell_type": "code",
   "execution_count": null,
   "metadata": {},
   "outputs": [],
   "source": [
    "# Let's plot the predicted result as a line into a original dataset\n",
    "plt.scatter(train.ENGINESIZE, train.CO2EMISSIONS,  color='blue')\n",
    "plt.plot(train_x, predicted_CO2, '-r') # plt.plot is used for line\n",
    "plt.xlabel(\"Engine size\")\n",
    "plt.ylabel(\"Emission_CO2\")"
   ]
  },
  {
   "cell_type": "code",
   "execution_count": null,
   "metadata": {},
   "outputs": [],
   "source": [
    "# Make new predictions using the test set\n",
    "test_x = np.asanyarray(test[['ENGINESIZE']])\n",
    "test_y = np.asanyarray(test[['CO2EMISSIONS']])\n",
    "predicted_CO2_Emission = regr.predict(test_x)\n",
    "#predicted_CO2_Emission"
   ]
  },
  {
   "cell_type": "code",
   "execution_count": null,
   "metadata": {},
   "outputs": [],
   "source": [
    "# EValuating the model's performance - using the three measures well known\n",
    "from sklearn.metrics import r2_score\n",
    "print(\"Mean absolute error: %.2f\" % np.mean(np.absolute(predicted_CO2_Emission - test_y)))\n",
    "print(\"Residual sum of squares (MSE): %.2f\" % np.mean((predicted_CO2_Emission - test_y) ** 2))\n",
    "print(\"R2-score: %.2f\" % r2_score(predicted_CO2_Emission, test_y) ) # I prefer this one : )##"
   ]
  },
  {
   "cell_type": "code",
   "execution_count": null,
   "metadata": {},
   "outputs": [],
   "source": []
  }
 ],
 "metadata": {
  "kernelspec": {
   "display_name": "Python 3",
   "language": "python",
   "name": "python3"
  },
  "language_info": {
   "codemirror_mode": {
    "name": "ipython",
    "version": 3
   },
   "file_extension": ".py",
   "mimetype": "text/x-python",
   "name": "python",
   "nbconvert_exporter": "python",
   "pygments_lexer": "ipython3",
   "version": "3.6.5"
  }
 },
 "nbformat": 4,
 "nbformat_minor": 2
}
